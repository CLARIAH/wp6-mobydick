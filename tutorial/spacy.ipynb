{
 "cells": [
  {
   "cell_type": "code",
   "execution_count": 34,
   "id": "62b05243-992f-4e46-8909-1699a6a52a77",
   "metadata": {},
   "outputs": [],
   "source": [
    "import spacy\n",
    "# !python -m spacy download en_core_web_sm"
   ]
  },
  {
   "cell_type": "code",
   "execution_count": 35,
   "id": "5c5de74a-6a6a-4ae5-a428-1e2d110f9be7",
   "metadata": {},
   "outputs": [],
   "source": [
    "class Spacy:\n",
    "    def __init__(self):\n",
    "        nlp = spacy.load(\"en_core_web_sm\", disable=[\"parser\"])\n",
    "        nlp.add_pipe('sentencizer')\n",
    "        self.nlp = nlp\n",
    "        \n",
    "    def sentence(self, text):\n",
    "        nlp = self.nlp\n",
    "        doc = nlp(text)\n",
    "        return [s.text.strip() for s in doc.sents]"
   ]
  },
  {
   "cell_type": "code",
   "execution_count": 36,
   "id": "58be2a2a-4f94-40d1-a085-344db1489a0c",
   "metadata": {},
   "outputs": [],
   "source": [
    "S = Spacy()"
   ]
  },
  {
   "cell_type": "code",
   "execution_count": 37,
   "id": "fb0e0f5f-af2c-4019-902b-c769fe9dd98a",
   "metadata": {},
   "outputs": [],
   "source": [
    "text = \"Hello I am Enrica. I am writing here about spacy.\""
   ]
  },
  {
   "cell_type": "code",
   "execution_count": 39,
   "id": "09fcf284-9cbd-4ef6-bc8e-ffa3891b0e45",
   "metadata": {},
   "outputs": [],
   "source": [
    "text = \"\"\"\n",
    "This is a book by W.G. Hermans. Do you like it? By the way, it is not W.G., but W.F.\n",
    "Foo bar THING. And yet something ELSE.\n",
    "\"\"\""
   ]
  },
  {
   "cell_type": "code",
   "execution_count": 40,
   "id": "94c818ee-9186-40fe-b5fb-5dccf29cc971",
   "metadata": {},
   "outputs": [
    {
     "data": {
      "text/plain": [
       "['This is a book by W.G. Hermans.',\n",
       " 'Do you like it?',\n",
       " 'By the way, it is not W.G., but W.F.\\nFoo bar THING.',\n",
       " 'And yet something ELSE.',\n",
       " '']"
      ]
     },
     "execution_count": 40,
     "metadata": {},
     "output_type": "execute_result"
    }
   ],
   "source": [
    "S.sentence(text)"
   ]
  },
  {
   "cell_type": "code",
   "execution_count": 41,
   "id": "4b6c216b-1434-48ab-b698-8f7a2dcfd7d9",
   "metadata": {},
   "outputs": [],
   "source": [
    "text = \"\"\"\n",
    "<text>\n",
    "      <front>\n",
    "         <div type=\"note\">\n",
    "            <p>Born in New York City, the son of New England merchant. He \n",
    "worked at odd jobs (clerk, farmhand, teacher)  before sailing to the South Seas\n",
    "on the whaler <emph rend=\"italic\">Acushnet</emph>. He  deserted his ship, lived\n",
    "among cannibals, mutinied on  an Australian boat, then spent two years on an\n",
    "American  boat returning to the U.S. He successfully romanticized  these\n",
    "adventures, publishing seven novels in six years,  including <emph rend=\"italic\">Moby Dick</emph> (1851), one of the masterworks of  American\n",
    "fiction. His popularity waned, and by the time  he died he was virtually\n",
    "forgotten. <emph rend=\"italic\">Billy Budd</emph> was his  last great novel. As\n",
    "his writing declined, Melville  sailed again, around Cape Horn to San Francisco\n",
    "on a clipper ship  commanded by his brother.\n",
    "</p>\n",
    "         </div>\n",
    "         <div type=\"preface\">\n",
    "            <head>Preliminary Matter.</head>\n",
    "            <p>This text of Melville's Moby-Dick is based on the Hendricks \n",
    "House edition. It was prepared by Professor Eugene F. Irey at the \n",
    "University of Colorado. Any subsequent copies of this data must \n",
    "include this notice and any publications resulting from analysis \n",
    "of this data must include reference to Professor Irey's \n",
    "work.\n",
    "</p>\n",
    "            <p>ETYMOLOGY \n",
    "</p>\n",
    "            <p>\n",
    "               <emph rend=\"sc\">(Supplied by a late consumptive usher to a grammar school)</emph>\n",
    "            </p>\n",
    "            <p>The pale Usher—<emph rend=\"italic\">threadbare</emph> in coat, heart, body, and \n",
    "brain; I see him now. He was ever dusting his old lexicons and \n",
    "grammars, with a queer handkerchief, mockingly embellished with \n",
    "all the gay flags of all the known nations of the world. He loved \n",
    "to dust his old grammars; it somehow mildly reminded him of his \n",
    "mortality.\n",
    "</p>\n",
    "            <p>EXTRACTS \n",
    "</p>\n",
    "            <p>\n",
    "               <emph rend=\"sc\">(Supplied by a sub-sub-librarian)</emph>\n",
    "            </p>\n",
    "            <p>It will be seen that this mere painstaking burrower and \n",
    "grubworm of a poor devil of a Sub-Sub appears to have gone \n",
    "through the long Vaticans and street-stalls of the earth, picking \n",
    "up whatever random allusions to whales he could anyways find in any \n",
    "book whatsoever, sacred or profane. Therefore you must not, in \n",
    "every case at least, take the higgledy-piggledy whale statements, \n",
    "however authentic, in these extracts, for veritable gospel \n",
    "cetology. Far from it. As touching the ancient authors generally, \n",
    "as well as the poets here appearing, these extracts are solely \n",
    "valuable or entertaining, as affording a glancing bird's eye view \n",
    "of what has been promiscuously said, thought, fancied, and sung of \n",
    "Leviathan, by many nations and generations, including our \n",
    "own.\n",
    "</p>\n",
    "            <p>So fare thee well, poor devil of a Sub-Sub, whose \n",
    "commentator I am. Thou belongest to that hopeless, sallow tribe \n",
    "which no wine of this world will ever warm; and for whom even Pale \n",
    "Sherry would be too rosy-strong; but with whom one sometimes loves \n",
    "to sit, and feel poor-devilish, too; and grow convivial upon \n",
    "tears; and say to them bluntly, with full eyes and empty glasses, \n",
    "and in not altogether unpleasant sadness—<emph rend=\"italic\">Give</emph> it up, Sub-Subs!\n",
    "For by how much the more pains ye take to please the world, \n",
    "by so much the more shall ye for ever go thankless! Would that I \n",
    "could clear out Hampton Court and the Tuileries for ye! But gulp \n",
    "down your tears and hie aloft to the royal-mast with your hearts; \n",
    "for your friends who have gone before are clearing out the seven- \n",
    "storied heavens, and making refugees of long-pampered Gabriel, \n",
    "Michael, and Raphael, against your coming. Here ye strike but \n",
    "splintered hearts together <emph rend=\"italic\">there</emph>, ye shall strike \n",
    "unsplinterable glasses!\n",
    "</p>\n",
    "         </div>\n",
    "         <titlePage>\n",
    "            <docTitle>\n",
    "               <titlePart type=\"main\">\n",
    "                  <title type=\"main\">Moby Dick</title>\n",
    "               </titlePart>\n",
    "            </docTitle>\n",
    "            <byline>by\n",
    "<docAuthor>Herman Melville (1819-1891)</docAuthor>\n",
    "            </byline>\n",
    "         </titlePage>\n",
    "      </front>\n",
    "\"\"\""
   ]
  },
  {
   "cell_type": "code",
   "execution_count": 42,
   "id": "7675528f-1673-48e1-b35f-d99d7dc4ba0d",
   "metadata": {},
   "outputs": [
    {
     "data": {
      "text/plain": [
       "['<text>\\n      <front>\\n         <div type=\"note\">\\n            <p>Born in New York City, the son of New England merchant.',\n",
       " 'He \\nworked at odd jobs (clerk, farmhand, teacher)  before sailing to the South Seas\\non the whaler <emph rend=\"italic\">Acushnet</emph>.',\n",
       " 'He  deserted his ship, lived\\namong cannibals, mutinied on  an Australian boat, then spent two years on an\\nAmerican  boat returning to the U.S. He successfully romanticized  these\\nadventures, publishing seven novels in six years,  including <emph rend=\"italic\">Moby Dick</emph> (1851), one of the masterworks of  American\\nfiction.',\n",
       " 'His popularity waned, and by the time  he died he was virtually\\nforgotten.',\n",
       " '<emph rend=\"italic\">Billy Budd</emph> was his  last great novel.',\n",
       " 'As\\nhis writing declined, Melville  sailed again, around Cape Horn to San Francisco\\non a clipper ship  commanded by his brother.',\n",
       " '</p>\\n         </div>\\n         <div type=\"preface\">\\n            <head>Preliminary Matter.</head>\\n            <p>This text of Melville\\'s Moby-Dick is based on the Hendricks \\nHouse edition.',\n",
       " 'It was prepared by Professor Eugene F. Irey at the \\nUniversity of Colorado.',\n",
       " \"Any subsequent copies of this data must \\ninclude this notice and any publications resulting from analysis \\nof this data must include reference to Professor Irey's \\nwork.\",\n",
       " '</p>\\n            <p>ETYMOLOGY \\n</p>\\n            <p>\\n               <emph rend=\"sc\">(Supplied by a late consumptive usher to a grammar school)</emph>\\n            </p>\\n            <p>The pale Usher—<emph rend=\"italic\">threadbare</emph> in coat, heart, body, and \\nbrain; I see him now.',\n",
       " 'He was ever dusting his old lexicons and \\ngrammars, with a queer handkerchief, mockingly embellished with \\nall the gay flags of all the known nations of the world.',\n",
       " 'He loved \\nto dust his old grammars; it somehow mildly reminded him of his \\nmortality.',\n",
       " '</p>\\n            <p>EXTRACTS \\n</p>\\n            <p>\\n               <emph rend=\"sc\">(Supplied by a sub-sub-librarian)</emph>\\n            </p>\\n            <p>It will be seen that this mere painstaking burrower and \\ngrubworm of a poor devil of a Sub-Sub appears to have gone \\nthrough the long Vaticans and street-stalls of the earth, picking \\nup whatever random allusions to whales he could anyways find in any \\nbook whatsoever, sacred or profane.',\n",
       " 'Therefore you must not, in \\nevery case at least, take the higgledy-piggledy whale statements, \\nhowever authentic, in these extracts, for veritable gospel \\ncetology.',\n",
       " 'Far from it.',\n",
       " \"As touching the ancient authors generally, \\nas well as the poets here appearing, these extracts are solely \\nvaluable or entertaining, as affording a glancing bird's eye view \\nof what has been promiscuously said, thought, fancied, and sung of \\nLeviathan, by many nations and generations, including our \\nown.\",\n",
       " '</p>\\n            <p>So fare thee well, poor devil of a Sub-Sub, whose \\ncommentator I am.',\n",
       " 'Thou belongest to that hopeless, sallow tribe \\nwhich no wine of this world will ever warm; and for whom even Pale \\nSherry would be too rosy-strong; but with whom one sometimes loves \\nto sit, and feel poor-devilish, too; and grow convivial upon \\ntears; and say to them bluntly, with full eyes and empty glasses, \\nand in not altogether unpleasant sadness—<emph rend=\"italic\">Give</emph> it up, Sub-Subs!',\n",
       " 'For by how much the more pains ye take to please the world, \\nby so much the more shall ye for ever go thankless!',\n",
       " 'Would that I \\ncould clear out Hampton Court and the Tuileries for ye!',\n",
       " 'But gulp \\ndown your tears and hie aloft to the royal-mast with your hearts; \\nfor your friends who have gone before are clearing out the seven- \\nstoried heavens, and making refugees of long-pampered Gabriel, \\nMichael, and Raphael, against your coming.',\n",
       " 'Here ye strike but \\nsplintered hearts together <emph rend=\"italic\">there</emph>, ye shall strike \\nunsplinterable glasses!',\n",
       " '</p>\\n         </div>\\n         <titlePage>\\n            <docTitle>\\n               <titlePart type=\"main\">\\n                  <title type=\"main\">Moby Dick</title>\\n               </titlePart>\\n            </docTitle>\\n            <byline>by\\n<docAuthor>Herman Melville (1819-1891)</docAuthor>\\n            </byline>\\n         </titlePage>\\n      </front>']"
      ]
     },
     "execution_count": 42,
     "metadata": {},
     "output_type": "execute_result"
    }
   ],
   "source": [
    "S.sentence(text)"
   ]
  },
  {
   "cell_type": "code",
   "execution_count": null,
   "id": "72ad8155-1e67-4602-ad67-ee56e5d0a9ef",
   "metadata": {},
   "outputs": [],
   "source": []
  }
 ],
 "metadata": {
  "kernelspec": {
   "display_name": "Python 3 (ipykernel)",
   "language": "python",
   "name": "python3"
  },
  "language_info": {
   "codemirror_mode": {
    "name": "ipython",
    "version": 3
   },
   "file_extension": ".py",
   "mimetype": "text/x-python",
   "name": "python",
   "nbconvert_exporter": "python",
   "pygments_lexer": "ipython3",
   "version": "3.11.1"
  }
 },
 "nbformat": 4,
 "nbformat_minor": 5
}
