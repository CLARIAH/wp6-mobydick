{
 "cells": [
  {
   "cell_type": "code",
   "execution_count": 9,
   "id": "62b05243-992f-4e46-8909-1699a6a52a77",
   "metadata": {},
   "outputs": [],
   "source": [
    "import spacy\n",
    "# !python -m spacy download en_core_web_sm"
   ]
  },
  {
   "cell_type": "code",
   "execution_count": 72,
   "id": "5c5de74a-6a6a-4ae5-a428-1e2d110f9be7",
   "metadata": {},
   "outputs": [],
   "source": [
    "class Spacy:\n",
    "    def __init__(self):\n",
    "        nlp = spacy.load(\"en_core_web_sm\", disable=[\"parser\"])\n",
    "        nlp.add_pipe('sentencizer')\n",
    "        self.nlp = nlp\n",
    "        \n",
    "    def sentence(self, text):\n",
    "        nlp = self.nlp\n",
    "        doc = nlp(text)\n",
    "        result = []\n",
    "        for s in doc.sents:\n",
    "            tokenStart = doc[s.start]\n",
    "            tokenEnd = doc[s.end - 1]\n",
    "            sentStart = tokenStart.idx\n",
    "            sentEnd = tokenEnd.idx + len(tokenEnd.text)\n",
    "            result.append((sentStart, sentEnd, s.text.strip()))\n",
    "        return result"
   ]
  },
  {
   "cell_type": "code",
   "execution_count": 73,
   "id": "58be2a2a-4f94-40d1-a085-344db1489a0c",
   "metadata": {},
   "outputs": [],
   "source": [
    "S = Spacy()"
   ]
  },
  {
   "cell_type": "code",
   "execution_count": 74,
   "id": "fb0e0f5f-af2c-4019-902b-c769fe9dd98a",
   "metadata": {},
   "outputs": [],
   "source": [
    "text = \"Hello I am Enrica. I am writing here about spacy.\""
   ]
  },
  {
   "cell_type": "code",
   "execution_count": 75,
   "id": "09fcf284-9cbd-4ef6-bc8e-ffa3891b0e45",
   "metadata": {},
   "outputs": [],
   "source": [
    "text = \"\"\"\n",
    "This is a book by W.G. Hermans. Do you like it? By the way, it is not W.G., but W.F.\n",
    "Foo bar THING. And yet something ELSE.\n",
    "\"\"\""
   ]
  },
  {
   "cell_type": "code",
   "execution_count": 76,
   "id": "94c818ee-9186-40fe-b5fb-5dccf29cc971",
   "metadata": {},
   "outputs": [
    {
     "data": {
      "text/plain": [
       "[(0, 32, 'This is a book by W.G. Hermans.'),\n",
       " (33, 48, 'Do you like it?'),\n",
       " (49, 100, 'By the way, it is not W.G., but W.F.\\nFoo bar THING.'),\n",
       " (101, 124, 'And yet something ELSE.'),\n",
       " (124, 125, '')]"
      ]
     },
     "execution_count": 76,
     "metadata": {},
     "output_type": "execute_result"
    }
   ],
   "source": [
    "S.sentence(text)"
   ]
  },
  {
   "cell_type": "code",
   "execution_count": null,
   "id": "72ad8155-1e67-4602-ad67-ee56e5d0a9ef",
   "metadata": {},
   "outputs": [],
   "source": []
  }
 ],
 "metadata": {
  "kernelspec": {
   "display_name": "Python 3 (ipykernel)",
   "language": "python",
   "name": "python3"
  },
  "language_info": {
   "codemirror_mode": {
    "name": "ipython",
    "version": 3
   },
   "file_extension": ".py",
   "mimetype": "text/x-python",
   "name": "python",
   "nbconvert_exporter": "python",
   "pygments_lexer": "ipython3",
   "version": "3.11.1"
  }
 },
 "nbformat": 4,
 "nbformat_minor": 5
}
